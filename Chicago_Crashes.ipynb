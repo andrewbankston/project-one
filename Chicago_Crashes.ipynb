{
 "cells": [
  {
   "cell_type": "code",
   "execution_count": 11,
   "metadata": {},
   "outputs": [],
   "source": [
    "# Dependencies\n",
    "import os\n",
    "import requests\n",
    "import pandas as pd\n",
    "from config import gmaps_key\n",
    "from pprint import pprint\n",
    "import gmaps\n",
    "import matplotlib.pyplot as plt"
   ]
  },
  {
   "cell_type": "code",
   "execution_count": null,
   "metadata": {},
   "outputs": [],
   "source": [
    "# Import google API key\n",
    "from config import gmaps_key"
   ]
  },
  {
   "cell_type": "code",
   "execution_count": 12,
   "metadata": {},
   "outputs": [
    {
     "data": {
      "text/html": [
       "<div>\n",
       "<style scoped>\n",
       "    .dataframe tbody tr th:only-of-type {\n",
       "        vertical-align: middle;\n",
       "    }\n",
       "\n",
       "    .dataframe tbody tr th {\n",
       "        vertical-align: top;\n",
       "    }\n",
       "\n",
       "    .dataframe thead th {\n",
       "        text-align: right;\n",
       "    }\n",
       "</style>\n",
       "<table border=\"1\" class=\"dataframe\">\n",
       "  <thead>\n",
       "    <tr style=\"text-align: right;\">\n",
       "      <th></th>\n",
       "      <th>CRASH_DATE</th>\n",
       "      <th>CRASH_TIME</th>\n",
       "      <th>POSTED_SPEED_LIMIT</th>\n",
       "      <th>TRAFFIC_CONTROL_DEVICE</th>\n",
       "      <th>DEVICE_CONDITION</th>\n",
       "      <th>WEATHER_CONDITION</th>\n",
       "      <th>LIGHTING_CONDITION</th>\n",
       "      <th>FIRST_CRASH_TYPE</th>\n",
       "      <th>TRAFFICWAY_TYPE</th>\n",
       "      <th>ALIGNMENT</th>\n",
       "      <th>...</th>\n",
       "      <th>PRIM_CONTRIBUTORY_CAUSE</th>\n",
       "      <th>SEC_CONTRIBUTORY_CAUSE</th>\n",
       "      <th>STREET_DIRECTION</th>\n",
       "      <th>NUM_UNITS</th>\n",
       "      <th>MOST_SEVERE_INJURY</th>\n",
       "      <th>INJURIES_TOTAL</th>\n",
       "      <th>INJURIES_FATAL</th>\n",
       "      <th>CRASH_HOUR</th>\n",
       "      <th>LATITUDE</th>\n",
       "      <th>LONGITUDE</th>\n",
       "    </tr>\n",
       "  </thead>\n",
       "  <tbody>\n",
       "    <tr>\n",
       "      <th>0</th>\n",
       "      <td>1/7/2021</td>\n",
       "      <td>3:00</td>\n",
       "      <td>30</td>\n",
       "      <td>NO CONTROLS</td>\n",
       "      <td>NO CONTROLS</td>\n",
       "      <td>CLEAR</td>\n",
       "      <td>DARKNESS, LIGHTED ROAD</td>\n",
       "      <td>PARKED MOTOR VEHICLE</td>\n",
       "      <td>DIVIDED - W/MEDIAN (NOT RAISED)</td>\n",
       "      <td>STRAIGHT AND LEVEL</td>\n",
       "      <td>...</td>\n",
       "      <td>UNABLE TO DETERMINE</td>\n",
       "      <td>UNABLE TO DETERMINE</td>\n",
       "      <td>W</td>\n",
       "      <td>3</td>\n",
       "      <td>NO INDICATION OF INJURY</td>\n",
       "      <td>0.0</td>\n",
       "      <td>0.0</td>\n",
       "      <td>3</td>\n",
       "      <td>41.924260</td>\n",
       "      <td>-87.753029</td>\n",
       "    </tr>\n",
       "    <tr>\n",
       "      <th>1</th>\n",
       "      <td>1/7/2021</td>\n",
       "      <td>0:30</td>\n",
       "      <td>30</td>\n",
       "      <td>TRAFFIC SIGNAL</td>\n",
       "      <td>FUNCTIONING PROPERLY</td>\n",
       "      <td>CLEAR</td>\n",
       "      <td>DARKNESS, LIGHTED ROAD</td>\n",
       "      <td>ANGLE</td>\n",
       "      <td>FOUR WAY</td>\n",
       "      <td>STRAIGHT AND LEVEL</td>\n",
       "      <td>...</td>\n",
       "      <td>DISREGARDING TRAFFIC SIGNALS</td>\n",
       "      <td>UNABLE TO DETERMINE</td>\n",
       "      <td>N</td>\n",
       "      <td>2</td>\n",
       "      <td>NONINCAPACITATING INJURY</td>\n",
       "      <td>1.0</td>\n",
       "      <td>0.0</td>\n",
       "      <td>0</td>\n",
       "      <td>41.902701</td>\n",
       "      <td>-87.711526</td>\n",
       "    </tr>\n",
       "    <tr>\n",
       "      <th>2</th>\n",
       "      <td>1/7/2021</td>\n",
       "      <td>0:26</td>\n",
       "      <td>30</td>\n",
       "      <td>TRAFFIC SIGNAL</td>\n",
       "      <td>FUNCTIONING PROPERLY</td>\n",
       "      <td>CLEAR</td>\n",
       "      <td>DARKNESS, LIGHTED ROAD</td>\n",
       "      <td>TURNING</td>\n",
       "      <td>FOUR WAY</td>\n",
       "      <td>STRAIGHT AND LEVEL</td>\n",
       "      <td>...</td>\n",
       "      <td>FAILING TO YIELD RIGHT-OF-WAY</td>\n",
       "      <td>NOT APPLICABLE</td>\n",
       "      <td>N</td>\n",
       "      <td>3</td>\n",
       "      <td>NO INDICATION OF INJURY</td>\n",
       "      <td>0.0</td>\n",
       "      <td>0.0</td>\n",
       "      <td>0</td>\n",
       "      <td>41.935010</td>\n",
       "      <td>-87.756408</td>\n",
       "    </tr>\n",
       "    <tr>\n",
       "      <th>3</th>\n",
       "      <td>1/7/2021</td>\n",
       "      <td>0:07</td>\n",
       "      <td>30</td>\n",
       "      <td>TRAFFIC SIGNAL</td>\n",
       "      <td>FUNCTIONING PROPERLY</td>\n",
       "      <td>CLEAR</td>\n",
       "      <td>DARKNESS, LIGHTED ROAD</td>\n",
       "      <td>FIXED OBJECT</td>\n",
       "      <td>DIVIDED - W/MEDIAN BARRIER</td>\n",
       "      <td>STRAIGHT AND LEVEL</td>\n",
       "      <td>...</td>\n",
       "      <td>DISREGARDING TRAFFIC SIGNALS</td>\n",
       "      <td>NOT APPLICABLE</td>\n",
       "      <td>S</td>\n",
       "      <td>1</td>\n",
       "      <td>NONINCAPACITATING INJURY</td>\n",
       "      <td>2.0</td>\n",
       "      <td>0.0</td>\n",
       "      <td>0</td>\n",
       "      <td>41.838327</td>\n",
       "      <td>-87.617613</td>\n",
       "    </tr>\n",
       "    <tr>\n",
       "      <th>4</th>\n",
       "      <td>1/6/2021</td>\n",
       "      <td>23:21</td>\n",
       "      <td>30</td>\n",
       "      <td>TRAFFIC SIGNAL</td>\n",
       "      <td>FUNCTIONING PROPERLY</td>\n",
       "      <td>CLEAR</td>\n",
       "      <td>DARKNESS, LIGHTED ROAD</td>\n",
       "      <td>ANGLE</td>\n",
       "      <td>FOUR WAY</td>\n",
       "      <td>STRAIGHT AND LEVEL</td>\n",
       "      <td>...</td>\n",
       "      <td>DISREGARDING TRAFFIC SIGNALS</td>\n",
       "      <td>NOT APPLICABLE</td>\n",
       "      <td>W</td>\n",
       "      <td>2</td>\n",
       "      <td>NO INDICATION OF INJURY</td>\n",
       "      <td>0.0</td>\n",
       "      <td>0.0</td>\n",
       "      <td>23</td>\n",
       "      <td>41.881926</td>\n",
       "      <td>-87.745462</td>\n",
       "    </tr>\n",
       "    <tr>\n",
       "      <th>...</th>\n",
       "      <td>...</td>\n",
       "      <td>...</td>\n",
       "      <td>...</td>\n",
       "      <td>...</td>\n",
       "      <td>...</td>\n",
       "      <td>...</td>\n",
       "      <td>...</td>\n",
       "      <td>...</td>\n",
       "      <td>...</td>\n",
       "      <td>...</td>\n",
       "      <td>...</td>\n",
       "      <td>...</td>\n",
       "      <td>...</td>\n",
       "      <td>...</td>\n",
       "      <td>...</td>\n",
       "      <td>...</td>\n",
       "      <td>...</td>\n",
       "      <td>...</td>\n",
       "      <td>...</td>\n",
       "      <td>...</td>\n",
       "      <td>...</td>\n",
       "    </tr>\n",
       "    <tr>\n",
       "      <th>467652</th>\n",
       "      <td>8/4/2015</td>\n",
       "      <td>8:00</td>\n",
       "      <td>30</td>\n",
       "      <td>TRAFFIC SIGNAL</td>\n",
       "      <td>FUNCTIONING PROPERLY</td>\n",
       "      <td>CLEAR</td>\n",
       "      <td>DAYLIGHT</td>\n",
       "      <td>REAR END</td>\n",
       "      <td>NOT DIVIDED</td>\n",
       "      <td>STRAIGHT AND LEVEL</td>\n",
       "      <td>...</td>\n",
       "      <td>DISREGARDING TRAFFIC SIGNALS</td>\n",
       "      <td>DISREGARDING TRAFFIC SIGNALS</td>\n",
       "      <td>S</td>\n",
       "      <td>2</td>\n",
       "      <td>REPORTED, NOT EVIDENT</td>\n",
       "      <td>1.0</td>\n",
       "      <td>0.0</td>\n",
       "      <td>8</td>\n",
       "      <td>41.816471</td>\n",
       "      <td>-87.621551</td>\n",
       "    </tr>\n",
       "    <tr>\n",
       "      <th>467653</th>\n",
       "      <td>8/4/2015</td>\n",
       "      <td>5:00</td>\n",
       "      <td>30</td>\n",
       "      <td>NO CONTROLS</td>\n",
       "      <td>NO CONTROLS</td>\n",
       "      <td>CLEAR</td>\n",
       "      <td>DARKNESS, LIGHTED ROAD</td>\n",
       "      <td>PARKED MOTOR VEHICLE</td>\n",
       "      <td>ONE-WAY</td>\n",
       "      <td>STRAIGHT AND LEVEL</td>\n",
       "      <td>...</td>\n",
       "      <td>UNABLE TO DETERMINE</td>\n",
       "      <td>NOT APPLICABLE</td>\n",
       "      <td>N</td>\n",
       "      <td>2</td>\n",
       "      <td>NO INDICATION OF INJURY</td>\n",
       "      <td>0.0</td>\n",
       "      <td>0.0</td>\n",
       "      <td>5</td>\n",
       "      <td>41.881057</td>\n",
       "      <td>-87.771673</td>\n",
       "    </tr>\n",
       "    <tr>\n",
       "      <th>467654</th>\n",
       "      <td>8/3/2015</td>\n",
       "      <td>18:37</td>\n",
       "      <td>35</td>\n",
       "      <td>TRAFFIC SIGNAL</td>\n",
       "      <td>FUNCTIONING PROPERLY</td>\n",
       "      <td>CLEAR</td>\n",
       "      <td>DAYLIGHT</td>\n",
       "      <td>REAR END</td>\n",
       "      <td>NOT DIVIDED</td>\n",
       "      <td>STRAIGHT AND LEVEL</td>\n",
       "      <td>...</td>\n",
       "      <td>FOLLOWING TOO CLOSELY</td>\n",
       "      <td>UNABLE TO DETERMINE</td>\n",
       "      <td>N</td>\n",
       "      <td>2</td>\n",
       "      <td>NO INDICATION OF INJURY</td>\n",
       "      <td>0.0</td>\n",
       "      <td>0.0</td>\n",
       "      <td>18</td>\n",
       "      <td>41.896980</td>\n",
       "      <td>-87.656687</td>\n",
       "    </tr>\n",
       "    <tr>\n",
       "      <th>467655</th>\n",
       "      <td>8/3/2015</td>\n",
       "      <td>15:30</td>\n",
       "      <td>30</td>\n",
       "      <td>TRAFFIC SIGNAL</td>\n",
       "      <td>FUNCTIONING PROPERLY</td>\n",
       "      <td>CLEAR</td>\n",
       "      <td>DAYLIGHT</td>\n",
       "      <td>REAR END</td>\n",
       "      <td>DIVIDED - W/MEDIAN (NOT RAISED)</td>\n",
       "      <td>STRAIGHT AND LEVEL</td>\n",
       "      <td>...</td>\n",
       "      <td>EVASIVE ACTION DUE TO ANIMAL, OBJECT, NONMOTORIST</td>\n",
       "      <td>FOLLOWING TOO CLOSELY</td>\n",
       "      <td>N</td>\n",
       "      <td>2</td>\n",
       "      <td>NO INDICATION OF INJURY</td>\n",
       "      <td>0.0</td>\n",
       "      <td>0.0</td>\n",
       "      <td>15</td>\n",
       "      <td>41.912188</td>\n",
       "      <td>-87.680491</td>\n",
       "    </tr>\n",
       "    <tr>\n",
       "      <th>467656</th>\n",
       "      <td>8/2/2015</td>\n",
       "      <td>19:55</td>\n",
       "      <td>35</td>\n",
       "      <td>TRAFFIC SIGNAL</td>\n",
       "      <td>FUNCTIONING PROPERLY</td>\n",
       "      <td>CLEAR</td>\n",
       "      <td>DUSK</td>\n",
       "      <td>TURNING</td>\n",
       "      <td>DIVIDED - W/MEDIAN BARRIER</td>\n",
       "      <td>STRAIGHT AND LEVEL</td>\n",
       "      <td>...</td>\n",
       "      <td>IMPROPER TURNING/NO SIGNAL</td>\n",
       "      <td>UNABLE TO DETERMINE</td>\n",
       "      <td>W</td>\n",
       "      <td>2</td>\n",
       "      <td>NO INDICATION OF INJURY</td>\n",
       "      <td>0.0</td>\n",
       "      <td>0.0</td>\n",
       "      <td>19</td>\n",
       "      <td>41.910739</td>\n",
       "      <td>-87.667756</td>\n",
       "    </tr>\n",
       "  </tbody>\n",
       "</table>\n",
       "<p>467657 rows × 27 columns</p>\n",
       "</div>"
      ],
      "text/plain": [
       "       CRASH_DATE CRASH_TIME  POSTED_SPEED_LIMIT TRAFFIC_CONTROL_DEVICE  \\\n",
       "0        1/7/2021       3:00                  30            NO CONTROLS   \n",
       "1        1/7/2021       0:30                  30         TRAFFIC SIGNAL   \n",
       "2        1/7/2021       0:26                  30         TRAFFIC SIGNAL   \n",
       "3        1/7/2021       0:07                  30         TRAFFIC SIGNAL   \n",
       "4        1/6/2021      23:21                  30         TRAFFIC SIGNAL   \n",
       "...           ...        ...                 ...                    ...   \n",
       "467652   8/4/2015       8:00                  30         TRAFFIC SIGNAL   \n",
       "467653   8/4/2015       5:00                  30            NO CONTROLS   \n",
       "467654   8/3/2015      18:37                  35         TRAFFIC SIGNAL   \n",
       "467655   8/3/2015      15:30                  30         TRAFFIC SIGNAL   \n",
       "467656   8/2/2015      19:55                  35         TRAFFIC SIGNAL   \n",
       "\n",
       "            DEVICE_CONDITION WEATHER_CONDITION      LIGHTING_CONDITION  \\\n",
       "0                NO CONTROLS             CLEAR  DARKNESS, LIGHTED ROAD   \n",
       "1       FUNCTIONING PROPERLY             CLEAR  DARKNESS, LIGHTED ROAD   \n",
       "2       FUNCTIONING PROPERLY             CLEAR  DARKNESS, LIGHTED ROAD   \n",
       "3       FUNCTIONING PROPERLY             CLEAR  DARKNESS, LIGHTED ROAD   \n",
       "4       FUNCTIONING PROPERLY             CLEAR  DARKNESS, LIGHTED ROAD   \n",
       "...                      ...               ...                     ...   \n",
       "467652  FUNCTIONING PROPERLY             CLEAR                DAYLIGHT   \n",
       "467653           NO CONTROLS             CLEAR  DARKNESS, LIGHTED ROAD   \n",
       "467654  FUNCTIONING PROPERLY             CLEAR                DAYLIGHT   \n",
       "467655  FUNCTIONING PROPERLY             CLEAR                DAYLIGHT   \n",
       "467656  FUNCTIONING PROPERLY             CLEAR                    DUSK   \n",
       "\n",
       "            FIRST_CRASH_TYPE                  TRAFFICWAY_TYPE  \\\n",
       "0       PARKED MOTOR VEHICLE  DIVIDED - W/MEDIAN (NOT RAISED)   \n",
       "1                      ANGLE                         FOUR WAY   \n",
       "2                    TURNING                         FOUR WAY   \n",
       "3               FIXED OBJECT       DIVIDED - W/MEDIAN BARRIER   \n",
       "4                      ANGLE                         FOUR WAY   \n",
       "...                      ...                              ...   \n",
       "467652              REAR END                      NOT DIVIDED   \n",
       "467653  PARKED MOTOR VEHICLE                          ONE-WAY   \n",
       "467654              REAR END                      NOT DIVIDED   \n",
       "467655              REAR END  DIVIDED - W/MEDIAN (NOT RAISED)   \n",
       "467656               TURNING       DIVIDED - W/MEDIAN BARRIER   \n",
       "\n",
       "                 ALIGNMENT  ...  \\\n",
       "0       STRAIGHT AND LEVEL  ...   \n",
       "1       STRAIGHT AND LEVEL  ...   \n",
       "2       STRAIGHT AND LEVEL  ...   \n",
       "3       STRAIGHT AND LEVEL  ...   \n",
       "4       STRAIGHT AND LEVEL  ...   \n",
       "...                    ...  ...   \n",
       "467652  STRAIGHT AND LEVEL  ...   \n",
       "467653  STRAIGHT AND LEVEL  ...   \n",
       "467654  STRAIGHT AND LEVEL  ...   \n",
       "467655  STRAIGHT AND LEVEL  ...   \n",
       "467656  STRAIGHT AND LEVEL  ...   \n",
       "\n",
       "                                  PRIM_CONTRIBUTORY_CAUSE  \\\n",
       "0                                     UNABLE TO DETERMINE   \n",
       "1                            DISREGARDING TRAFFIC SIGNALS   \n",
       "2                           FAILING TO YIELD RIGHT-OF-WAY   \n",
       "3                            DISREGARDING TRAFFIC SIGNALS   \n",
       "4                            DISREGARDING TRAFFIC SIGNALS   \n",
       "...                                                   ...   \n",
       "467652                       DISREGARDING TRAFFIC SIGNALS   \n",
       "467653                                UNABLE TO DETERMINE   \n",
       "467654                              FOLLOWING TOO CLOSELY   \n",
       "467655  EVASIVE ACTION DUE TO ANIMAL, OBJECT, NONMOTORIST   \n",
       "467656                         IMPROPER TURNING/NO SIGNAL   \n",
       "\n",
       "              SEC_CONTRIBUTORY_CAUSE STREET_DIRECTION NUM_UNITS  \\\n",
       "0                UNABLE TO DETERMINE                W         3   \n",
       "1                UNABLE TO DETERMINE                N         2   \n",
       "2                     NOT APPLICABLE                N         3   \n",
       "3                     NOT APPLICABLE                S         1   \n",
       "4                     NOT APPLICABLE                W         2   \n",
       "...                              ...              ...       ...   \n",
       "467652  DISREGARDING TRAFFIC SIGNALS                S         2   \n",
       "467653                NOT APPLICABLE                N         2   \n",
       "467654           UNABLE TO DETERMINE                N         2   \n",
       "467655         FOLLOWING TOO CLOSELY                N         2   \n",
       "467656           UNABLE TO DETERMINE                W         2   \n",
       "\n",
       "              MOST_SEVERE_INJURY INJURIES_TOTAL INJURIES_FATAL CRASH_HOUR  \\\n",
       "0        NO INDICATION OF INJURY            0.0            0.0          3   \n",
       "1       NONINCAPACITATING INJURY            1.0            0.0          0   \n",
       "2        NO INDICATION OF INJURY            0.0            0.0          0   \n",
       "3       NONINCAPACITATING INJURY            2.0            0.0          0   \n",
       "4        NO INDICATION OF INJURY            0.0            0.0         23   \n",
       "...                          ...            ...            ...        ...   \n",
       "467652     REPORTED, NOT EVIDENT            1.0            0.0          8   \n",
       "467653   NO INDICATION OF INJURY            0.0            0.0          5   \n",
       "467654   NO INDICATION OF INJURY            0.0            0.0         18   \n",
       "467655   NO INDICATION OF INJURY            0.0            0.0         15   \n",
       "467656   NO INDICATION OF INJURY            0.0            0.0         19   \n",
       "\n",
       "         LATITUDE  LONGITUDE  \n",
       "0       41.924260 -87.753029  \n",
       "1       41.902701 -87.711526  \n",
       "2       41.935010 -87.756408  \n",
       "3       41.838327 -87.617613  \n",
       "4       41.881926 -87.745462  \n",
       "...           ...        ...  \n",
       "467652  41.816471 -87.621551  \n",
       "467653  41.881057 -87.771673  \n",
       "467654  41.896980 -87.656687  \n",
       "467655  41.912188 -87.680491  \n",
       "467656  41.910739 -87.667756  \n",
       "\n",
       "[467657 rows x 27 columns]"
      ]
     },
     "execution_count": 12,
     "metadata": {},
     "output_type": "execute_result"
    }
   ],
   "source": [
    "# Combine raw data into a data frame\n",
    "yrs_15to18_path = os.path.join(\"data\",\"crash_data_2015-2018.csv\")\n",
    "yrs_19to21_path = os.path.join(\"data\",\"crash_data_2019-2021.csv\")\n",
    "years_15to18 = pd.read_csv(yrs_15to18_path)\n",
    "years_19to21 = pd.read_csv(yrs_19to21_path)\n",
    "crash_df = pd.concat([years_19to21,years_15to18],ignore_index=True)\n",
    "crash_df"
   ]
  },
  {
   "cell_type": "code",
   "execution_count": 9,
   "metadata": {},
   "outputs": [
    {
     "name": "stdout",
     "output_type": "stream",
     "text": [
      "Index(['CRASH_DATE', 'CRASH_TIME', 'POSTED_SPEED_LIMIT',\n",
      "       'TRAFFIC_CONTROL_DEVICE', 'DEVICE_CONDITION', 'WEATHER_CONDITION',\n",
      "       'LIGHTING_CONDITION', 'FIRST_CRASH_TYPE', 'TRAFFICWAY_TYPE',\n",
      "       'ALIGNMENT', 'ROADWAY_SURFACE_COND', 'ROAD_DEFECT', 'CRASH_TYPE',\n",
      "       'NOT_RIGHT_OF_WAY_I', 'HIT_AND_RUN_I', 'DAMAGE', 'DATE_POLICE_NOTIFIED',\n",
      "       'PRIM_CONTRIBUTORY_CAUSE', 'SEC_CONTRIBUTORY_CAUSE', 'STREET_DIRECTION',\n",
      "       'NUM_UNITS', 'MOST_SEVERE_INJURY', 'INJURIES_TOTAL', 'INJURIES_FATAL',\n",
      "       'CRASH_HOUR', 'LATITUDE', 'LONGITUDE'],\n",
      "      dtype='object')\n"
     ]
    }
   ],
   "source": [
    "crash_columns = crash_df.columns\n",
    "print(crash_columns)"
   ]
  },
  {
   "cell_type": "code",
   "execution_count": 14,
   "metadata": {},
   "outputs": [],
   "source": [
    "# Setup Google Maps API\n",
    "gmaps.configure(api_key=gmaps_key)"
   ]
  },
  {
   "cell_type": "markdown",
   "metadata": {},
   "source": [
    "#### What impacts crash type the most? - Romi"
   ]
  },
  {
   "cell_type": "code",
   "execution_count": 15,
   "metadata": {},
   "outputs": [],
   "source": [
    "# Create crash count per hour (histogram/line)"
   ]
  },
  {
   "cell_type": "code",
   "execution_count": 16,
   "metadata": {},
   "outputs": [],
   "source": [
    "# Create first crash type bar graph"
   ]
  },
  {
   "cell_type": "code",
   "execution_count": 17,
   "metadata": {},
   "outputs": [],
   "source": [
    "# Create first crash type vs. lighting graph (stacked bar graph)"
   ]
  },
  {
   "cell_type": "code",
   "execution_count": 18,
   "metadata": {},
   "outputs": [],
   "source": [
    "# Create hit and run vs month (line) -analysis correlation to holidays"
   ]
  },
  {
   "cell_type": "markdown",
   "metadata": {},
   "source": [
    "#### What type of injuries are caused by what types of crashes? - Jonathan"
   ]
  },
  {
   "cell_type": "code",
   "execution_count": 67,
   "metadata": {},
   "outputs": [
    {
     "data": {
      "image/png": "[encoded data removed]",
      "text/plain": [
       "<Figure size 432x288 with 1 Axes>"
      ]
     },
     "metadata": {},
     "output_type": "display_data"
    }
   ],
   "source": [
    "# Create cost of damage and injury count (pie chart)\n",
    "damage_group = crash_df.groupby(\"DAMAGE\")\n",
    "injury_count = damage_group[\"INJURIES_TOTAL\"].count()\n",
    "damage_inj_df = pd.DataFrame(injury_count)                            \n",
    "\n",
    "#damage_inj_df\n",
    "\n",
    "labels = list(damage_inj_df.index.values)\n",
    "injuries = damage_inj_df[\"INJURIES_TOTAL\"]\n",
    "explode = (0,0,0.1)\n",
    "#print(damage_inj_df.index)\n",
    "\n",
    "plt.pie(injuries, labels=labels, autopct=\"%1.1f%%\", shadow=True, explode=explode)\n",
    "plt.title(\"Injury % by Cost of Damage Groups\")\n",
    "plt.axis('equal')\n",
    "#plt.xlabel(\"Cost of Damage\")\n",
    "#plt.ylabel(\"Injury Count\")\n",
    "\n",
    "plt.savefig(\"output_data/injuries_by_cost_of_damage_group.png\")"
   ]
  },
  {
   "cell_type": "code",
   "execution_count": 81,
   "metadata": {},
   "outputs": [
    {
     "data": {
      "image/png": "[encoded data removed]",
      "text/plain": [
       "<Figure size 432x288 with 1 Axes>"
      ]
     },
     "metadata": {
      "needs_background": "light"
     },
     "output_type": "display_data"
    }
   ],
   "source": [
    "# Create cost of damage and fatal injury count (scatter with regression)\n",
    "fatal_count = damage_group[\"INJURIES_FATAL\"].count()\n",
    "damages_fatal_df = pd.DataFrame(fatal_count)\n",
    "\n",
    "#print(damages_fatal_df)\n",
    "x_labels = list(damage_inj_df.index.values)\n",
    "y_values = fatal_count\n",
    "\n",
    "plt.bar(x_labels, y_values, color=[\"yellow\", \"orange\", \"tomato\"], edgecolor=\"black\")\n",
    "plt.title(\"Cost of Damage vs. # of Fatal Injuries\")\n",
    "plt.xlabel(\"Cost of Damage Group\")\n",
    "plt.ylabel(\"# of Fatal Injuries\")\n",
    "\n",
    "plt.savefig(\"output_data/cost_of_damage_vs_fatalities.png\")"
   ]
  },
  {
   "cell_type": "code",
   "execution_count": 21,
   "metadata": {},
   "outputs": [],
   "source": [
    "# Create speed vs. fatality count (scatter with regression)"
   ]
  },
  {
   "cell_type": "markdown",
   "metadata": {},
   "source": [
    "#### What types of wrecks occur based off location? - Andrew"
   ]
  },
  {
   "cell_type": "code",
   "execution_count": 22,
   "metadata": {},
   "outputs": [],
   "source": [
    "# Create bar graph for trafficway_type"
   ]
  },
  {
   "cell_type": "code",
   "execution_count": 23,
   "metadata": {},
   "outputs": [],
   "source": [
    "# Create heat map for total injuries by location"
   ]
  },
  {
   "cell_type": "code",
   "execution_count": 24,
   "metadata": {},
   "outputs": [],
   "source": [
    "# Create heat map for fatal injuries by location"
   ]
  },
  {
   "cell_type": "markdown",
   "metadata": {},
   "source": [
    "Create heat map of crashes by location with location of high schools plotted"
   ]
  },
  {
   "cell_type": "code",
   "execution_count": 25,
   "metadata": {},
   "outputs": [],
   "source": [
    "# get center coordinates of data\n",
    "crash_with_locdata = crash_df.loc[crash_df[\"LATITUDE\"] >=41, :]\n",
    "crash_with_locdata = crash_with_locdata.loc[crash_df[\"LATITUDE\"] <=43, :]\n",
    "crash_with_locdata = crash_with_locdata.loc[crash_df[\"LONGITUDE\"] >= -88, :]\n",
    "crash_with_locdata = crash_with_locdata.loc[crash_df[\"LONGITUDE\"] <= -86, :]\n",
    "center = f\"{crash_with_locdata['LATITUDE'].mean()},{crash_with_locdata['LONGITUDE'].mean()}\""
   ]
  },
  {
   "cell_type": "code",
   "execution_count": 26,
   "metadata": {},
   "outputs": [],
   "source": [
    "# call google api for high schools within 30000 meters (~18 miles)\n",
    "base_url = \"https://maps.googleapis.com/maps/api/place/textsearch/json\"\n",
    "params = {\n",
    "    \"key\": gmaps_key,\n",
    "    \"query\": \"high school\",\n",
    "    \"location\": center,\n",
    "    \"radius\": \"30000\"\n",
    "}\n",
    "response = requests.get(base_url,params=params).json()"
   ]
  },
  {
   "cell_type": "code",
   "execution_count": 27,
   "metadata": {},
   "outputs": [],
   "source": [
    "# store high school data\n",
    "results = response[\"results\"]\n",
    "schools_df = pd.DataFrame({})\n",
    "schools_df[\"name\"] = [results[i][\"name\"] for i in range(len(results))]\n",
    "schools_df[\"lat\"] = [results[i][\"geometry\"][\"location\"][\"lat\"] for i in range(len(results))]\n",
    "schools_df[\"lng\"] = [results[i][\"geometry\"][\"location\"][\"lng\"] for i in range(len(results))]\n",
    "schools_df[\"address\"] = [results[i][\"formatted_address\"][:-len(\", United States\")] for i in range(len(results))]"
   ]
  },
  {
   "cell_type": "code",
   "execution_count": 28,
   "metadata": {},
   "outputs": [],
   "source": [
    "# Create heat map of crashes by location with location of high schools plotted\n",
    "fig = gmaps.figure()\n",
    "school_coordinates = schools_df[[\"lat\",\"lng\"]].astype(float)\n",
    "info_box_template = \"\"\"\n",
    "<dl>\n",
    "<dt>Name</dt><dd>{name}</dd>\n",
    "<dt>Address</dt><dd>{address}</dd>\n",
    "</dl>\n",
    "\"\"\"\n",
    "school_info = [info_box_template.format(**row) for index, row in schools_df.iterrows()]\n",
    "markers = gmaps.marker_layer(school_coordinates, info_box_content=school_info)\n",
    "fig.add_layer(markers)"
   ]
  },
  {
   "cell_type": "code",
   "execution_count": 29,
   "metadata": {},
   "outputs": [],
   "source": [
    "# generate heat map of crashes\n",
    "#crash_coordinates = crash_with_locdata[[\"LATITUDE\",\"LONGITUDE\"]].astype(float)\n",
    "#heat_layer = gmaps.heatmap_layer(crash_coordinates, dissipating=False, max_intensity=1, point_radius=1)\n",
    "#fig.add_layer(heat_layer)"
   ]
  },
  {
   "cell_type": "code",
   "execution_count": 30,
   "metadata": {},
   "outputs": [
    {
     "data": {
      "application/vnd.jupyter.widget-view+json": {
       "model_id": "3c3bba88c69d4baba9ea712296457d33",
       "version_major": 2,
       "version_minor": 0
      },
      "text/plain": [
       "Figure(layout=FigureLayout(height='420px'))"
      ]
     },
     "metadata": {},
     "output_type": "display_data"
    }
   ],
   "source": [
    "fig"
   ]
  },
  {
   "cell_type": "markdown",
   "metadata": {},
   "source": [
    "#### What weird connections can we make?"
   ]
  },
  {
   "cell_type": "code",
   "execution_count": null,
   "metadata": {},
   "outputs": [],
   "source": [
    "#Baker\n",
    "# Create direction facing bar graph (NSEW)"
   ]
  },
  {
   "cell_type": "code",
   "execution_count": null,
   "metadata": {},
   "outputs": [],
   "source": [
    "# Andrew\n",
    "# Pull in dataset for moon phases\n",
    "# Create crash count vs. moon phases"
   ]
  },
  {
   "cell_type": "code",
   "execution_count": null,
   "metadata": {},
   "outputs": [],
   "source": []
  }
 ],
 "metadata": {
  "kernelspec": {
   "display_name": "Python 3",
   "language": "python",
   "name": "python3"
  },
  "language_info": {
   "codemirror_mode": {
    "name": "ipython",
    "version": 3
   },
   "file_extension": ".py",
   "mimetype": "text/x-python",
   "name": "python",
   "nbconvert_exporter": "python",
   "pygments_lexer": "ipython3",
   "version": "3.8.3"
  }
 },
 "nbformat": 4,
 "nbformat_minor": 4
}
