{
 "cells": [
  {
   "cell_type": "code",
   "execution_count": 12,
   "metadata": {},
   "outputs": [],
   "source": [
    "# Dependencies\n",
    "import os\n",
    "import requests\n",
    "import pandas as pd\n",
    "from config import gmaps_key\n",
    "from pprint import pprint"
   ]
  },
  {
   "cell_type": "code",
   "execution_count": 8,
   "metadata": {},
   "outputs": [
    {
     "data": {
      "text/html": [
       "<div>\n",
       "<style scoped>\n",
       "    .dataframe tbody tr th:only-of-type {\n",
       "        vertical-align: middle;\n",
       "    }\n",
       "\n",
       "    .dataframe tbody tr th {\n",
       "        vertical-align: top;\n",
       "    }\n",
       "\n",
       "    .dataframe thead th {\n",
       "        text-align: right;\n",
       "    }\n",
       "</style>\n",
       "<table border=\"1\" class=\"dataframe\">\n",
       "  <thead>\n",
       "    <tr style=\"text-align: right;\">\n",
       "      <th></th>\n",
       "      <th>CRASH_DATE</th>\n",
       "      <th>CRASH_TIME</th>\n",
       "      <th>POSTED_SPEED_LIMIT</th>\n",
       "      <th>TRAFFIC_CONTROL_DEVICE</th>\n",
       "      <th>DEVICE_CONDITION</th>\n",
       "      <th>WEATHER_CONDITION</th>\n",
       "      <th>LIGHTING_CONDITION</th>\n",
       "      <th>FIRST_CRASH_TYPE</th>\n",
       "      <th>TRAFFICWAY_TYPE</th>\n",
       "      <th>ALIGNMENT</th>\n",
       "      <th>...</th>\n",
       "      <th>PRIM_CONTRIBUTORY_CAUSE</th>\n",
       "      <th>SEC_CONTRIBUTORY_CAUSE</th>\n",
       "      <th>STREET_DIRECTION</th>\n",
       "      <th>NUM_UNITS</th>\n",
       "      <th>MOST_SEVERE_INJURY</th>\n",
       "      <th>INJURIES_TOTAL</th>\n",
       "      <th>INJURIES_FATAL</th>\n",
       "      <th>CRASH_HOUR</th>\n",
       "      <th>LATITUDE</th>\n",
       "      <th>LONGITUDE</th>\n",
       "    </tr>\n",
       "  </thead>\n",
       "  <tbody>\n",
       "    <tr>\n",
       "      <th>0</th>\n",
       "      <td>1/7/2021</td>\n",
       "      <td>3:00</td>\n",
       "      <td>30</td>\n",
       "      <td>NO CONTROLS</td>\n",
       "      <td>NO CONTROLS</td>\n",
       "      <td>CLEAR</td>\n",
       "      <td>DARKNESS, LIGHTED ROAD</td>\n",
       "      <td>PARKED MOTOR VEHICLE</td>\n",
       "      <td>DIVIDED - W/MEDIAN (NOT RAISED)</td>\n",
       "      <td>STRAIGHT AND LEVEL</td>\n",
       "      <td>...</td>\n",
       "      <td>UNABLE TO DETERMINE</td>\n",
       "      <td>UNABLE TO DETERMINE</td>\n",
       "      <td>W</td>\n",
       "      <td>3</td>\n",
       "      <td>NO INDICATION OF INJURY</td>\n",
       "      <td>0.0</td>\n",
       "      <td>0.0</td>\n",
       "      <td>3</td>\n",
       "      <td>41.924260</td>\n",
       "      <td>-87.753029</td>\n",
       "    </tr>\n",
       "    <tr>\n",
       "      <th>1</th>\n",
       "      <td>1/7/2021</td>\n",
       "      <td>0:30</td>\n",
       "      <td>30</td>\n",
       "      <td>TRAFFIC SIGNAL</td>\n",
       "      <td>FUNCTIONING PROPERLY</td>\n",
       "      <td>CLEAR</td>\n",
       "      <td>DARKNESS, LIGHTED ROAD</td>\n",
       "      <td>ANGLE</td>\n",
       "      <td>FOUR WAY</td>\n",
       "      <td>STRAIGHT AND LEVEL</td>\n",
       "      <td>...</td>\n",
       "      <td>DISREGARDING TRAFFIC SIGNALS</td>\n",
       "      <td>UNABLE TO DETERMINE</td>\n",
       "      <td>N</td>\n",
       "      <td>2</td>\n",
       "      <td>NONINCAPACITATING INJURY</td>\n",
       "      <td>1.0</td>\n",
       "      <td>0.0</td>\n",
       "      <td>0</td>\n",
       "      <td>41.902701</td>\n",
       "      <td>-87.711526</td>\n",
       "    </tr>\n",
       "    <tr>\n",
       "      <th>2</th>\n",
       "      <td>1/7/2021</td>\n",
       "      <td>0:26</td>\n",
       "      <td>30</td>\n",
       "      <td>TRAFFIC SIGNAL</td>\n",
       "      <td>FUNCTIONING PROPERLY</td>\n",
       "      <td>CLEAR</td>\n",
       "      <td>DARKNESS, LIGHTED ROAD</td>\n",
       "      <td>TURNING</td>\n",
       "      <td>FOUR WAY</td>\n",
       "      <td>STRAIGHT AND LEVEL</td>\n",
       "      <td>...</td>\n",
       "      <td>FAILING TO YIELD RIGHT-OF-WAY</td>\n",
       "      <td>NOT APPLICABLE</td>\n",
       "      <td>N</td>\n",
       "      <td>3</td>\n",
       "      <td>NO INDICATION OF INJURY</td>\n",
       "      <td>0.0</td>\n",
       "      <td>0.0</td>\n",
       "      <td>0</td>\n",
       "      <td>41.935010</td>\n",
       "      <td>-87.756408</td>\n",
       "    </tr>\n",
       "    <tr>\n",
       "      <th>3</th>\n",
       "      <td>1/7/2021</td>\n",
       "      <td>0:07</td>\n",
       "      <td>30</td>\n",
       "      <td>TRAFFIC SIGNAL</td>\n",
       "      <td>FUNCTIONING PROPERLY</td>\n",
       "      <td>CLEAR</td>\n",
       "      <td>DARKNESS, LIGHTED ROAD</td>\n",
       "      <td>FIXED OBJECT</td>\n",
       "      <td>DIVIDED - W/MEDIAN BARRIER</td>\n",
       "      <td>STRAIGHT AND LEVEL</td>\n",
       "      <td>...</td>\n",
       "      <td>DISREGARDING TRAFFIC SIGNALS</td>\n",
       "      <td>NOT APPLICABLE</td>\n",
       "      <td>S</td>\n",
       "      <td>1</td>\n",
       "      <td>NONINCAPACITATING INJURY</td>\n",
       "      <td>2.0</td>\n",
       "      <td>0.0</td>\n",
       "      <td>0</td>\n",
       "      <td>41.838327</td>\n",
       "      <td>-87.617613</td>\n",
       "    </tr>\n",
       "    <tr>\n",
       "      <th>4</th>\n",
       "      <td>1/6/2021</td>\n",
       "      <td>23:21</td>\n",
       "      <td>30</td>\n",
       "      <td>TRAFFIC SIGNAL</td>\n",
       "      <td>FUNCTIONING PROPERLY</td>\n",
       "      <td>CLEAR</td>\n",
       "      <td>DARKNESS, LIGHTED ROAD</td>\n",
       "      <td>ANGLE</td>\n",
       "      <td>FOUR WAY</td>\n",
       "      <td>STRAIGHT AND LEVEL</td>\n",
       "      <td>...</td>\n",
       "      <td>DISREGARDING TRAFFIC SIGNALS</td>\n",
       "      <td>NOT APPLICABLE</td>\n",
       "      <td>W</td>\n",
       "      <td>2</td>\n",
       "      <td>NO INDICATION OF INJURY</td>\n",
       "      <td>0.0</td>\n",
       "      <td>0.0</td>\n",
       "      <td>23</td>\n",
       "      <td>41.881926</td>\n",
       "      <td>-87.745462</td>\n",
       "    </tr>\n",
       "  </tbody>\n",
       "</table>\n",
       "<p>5 rows × 27 columns</p>\n",
       "</div>"
      ],
      "text/plain": [
       "  CRASH_DATE CRASH_TIME  POSTED_SPEED_LIMIT TRAFFIC_CONTROL_DEVICE  \\\n",
       "0   1/7/2021       3:00                  30            NO CONTROLS   \n",
       "1   1/7/2021       0:30                  30         TRAFFIC SIGNAL   \n",
       "2   1/7/2021       0:26                  30         TRAFFIC SIGNAL   \n",
       "3   1/7/2021       0:07                  30         TRAFFIC SIGNAL   \n",
       "4   1/6/2021      23:21                  30         TRAFFIC SIGNAL   \n",
       "\n",
       "       DEVICE_CONDITION WEATHER_CONDITION      LIGHTING_CONDITION  \\\n",
       "0           NO CONTROLS             CLEAR  DARKNESS, LIGHTED ROAD   \n",
       "1  FUNCTIONING PROPERLY             CLEAR  DARKNESS, LIGHTED ROAD   \n",
       "2  FUNCTIONING PROPERLY             CLEAR  DARKNESS, LIGHTED ROAD   \n",
       "3  FUNCTIONING PROPERLY             CLEAR  DARKNESS, LIGHTED ROAD   \n",
       "4  FUNCTIONING PROPERLY             CLEAR  DARKNESS, LIGHTED ROAD   \n",
       "\n",
       "       FIRST_CRASH_TYPE                  TRAFFICWAY_TYPE           ALIGNMENT  \\\n",
       "0  PARKED MOTOR VEHICLE  DIVIDED - W/MEDIAN (NOT RAISED)  STRAIGHT AND LEVEL   \n",
       "1                 ANGLE                         FOUR WAY  STRAIGHT AND LEVEL   \n",
       "2               TURNING                         FOUR WAY  STRAIGHT AND LEVEL   \n",
       "3          FIXED OBJECT       DIVIDED - W/MEDIAN BARRIER  STRAIGHT AND LEVEL   \n",
       "4                 ANGLE                         FOUR WAY  STRAIGHT AND LEVEL   \n",
       "\n",
       "   ...        PRIM_CONTRIBUTORY_CAUSE SEC_CONTRIBUTORY_CAUSE STREET_DIRECTION  \\\n",
       "0  ...            UNABLE TO DETERMINE    UNABLE TO DETERMINE                W   \n",
       "1  ...   DISREGARDING TRAFFIC SIGNALS    UNABLE TO DETERMINE                N   \n",
       "2  ...  FAILING TO YIELD RIGHT-OF-WAY         NOT APPLICABLE                N   \n",
       "3  ...   DISREGARDING TRAFFIC SIGNALS         NOT APPLICABLE                S   \n",
       "4  ...   DISREGARDING TRAFFIC SIGNALS         NOT APPLICABLE                W   \n",
       "\n",
       "  NUM_UNITS        MOST_SEVERE_INJURY INJURIES_TOTAL INJURIES_FATAL  \\\n",
       "0         3   NO INDICATION OF INJURY            0.0            0.0   \n",
       "1         2  NONINCAPACITATING INJURY            1.0            0.0   \n",
       "2         3   NO INDICATION OF INJURY            0.0            0.0   \n",
       "3         1  NONINCAPACITATING INJURY            2.0            0.0   \n",
       "4         2   NO INDICATION OF INJURY            0.0            0.0   \n",
       "\n",
       "  CRASH_HOUR   LATITUDE  LONGITUDE  \n",
       "0          3  41.924260 -87.753029  \n",
       "1          0  41.902701 -87.711526  \n",
       "2          0  41.935010 -87.756408  \n",
       "3          0  41.838327 -87.617613  \n",
       "4         23  41.881926 -87.745462  \n",
       "\n",
       "[5 rows x 27 columns]"
      ]
     },
     "execution_count": 8,
     "metadata": {},
     "output_type": "execute_result"
    }
   ],
   "source": [
    "# Combine raw data into a data frame\n",
    "yrs_15to18_path = os.path.join(\"data\",\"crash_data_2015-2018.csv\")\n",
    "yrs_19to21_path = os.path.join(\"data\",\"crash_data_2019-2021.csv\")\n",
    "years_15to18 = pd.read_csv(yrs_15to18_path)\n",
    "years_19to21 = pd.read_csv(yrs_19to21_path)\n",
    "crash_df = pd.concat([years_19to21,years_15to18],ignore_index=True)\n",
    "crash_df.head()"
   ]
  },
  {
   "cell_type": "code",
   "execution_count": 13,
   "metadata": {},
   "outputs": [
    {
     "name": "stdout",
     "output_type": "stream",
     "text": [
      "Index(['CRASH_DATE', 'CRASH_TIME', 'POSTED_SPEED_LIMIT',\n",
      "       'TRAFFIC_CONTROL_DEVICE', 'DEVICE_CONDITION', 'WEATHER_CONDITION',\n",
      "       'LIGHTING_CONDITION', 'FIRST_CRASH_TYPE', 'TRAFFICWAY_TYPE',\n",
      "       'ALIGNMENT', 'ROADWAY_SURFACE_COND', 'ROAD_DEFECT', 'CRASH_TYPE',\n",
      "       'NOT_RIGHT_OF_WAY_I', 'HIT_AND_RUN_I', 'DAMAGE', 'DATE_POLICE_NOTIFIED',\n",
      "       'PRIM_CONTRIBUTORY_CAUSE', 'SEC_CONTRIBUTORY_CAUSE', 'STREET_DIRECTION',\n",
      "       'NUM_UNITS', 'MOST_SEVERE_INJURY', 'INJURIES_TOTAL', 'INJURIES_FATAL',\n",
      "       'CRASH_HOUR', 'LATITUDE', 'LONGITUDE'],\n",
      "      dtype='object')\n"
     ]
    }
   ],
   "source": [
    "crash_columns = crash_df.columns\n",
    "print(crash_columns)"
   ]
  },
  {
   "cell_type": "markdown",
   "metadata": {},
   "source": [
    "#### What impacts crash type the most? - Romi"
   ]
  },
  {
   "cell_type": "code",
   "execution_count": null,
   "metadata": {},
   "outputs": [],
   "source": [
    "# Create crash count per hour (histogram/line)"
   ]
  },
  {
   "cell_type": "code",
   "execution_count": null,
   "metadata": {},
   "outputs": [],
   "source": [
    "# Create first crash type bar graph"
   ]
  },
  {
   "cell_type": "code",
   "execution_count": null,
   "metadata": {},
   "outputs": [],
   "source": [
    "# Create first crash type vs. lighting graph (stacked bar graph)"
   ]
  },
  {
   "cell_type": "code",
   "execution_count": null,
   "metadata": {},
   "outputs": [],
   "source": [
    "# Create hit and run vs month (line) -analysis correlation to holidays"
   ]
  },
  {
   "cell_type": "markdown",
   "metadata": {},
   "source": [
    "#### What type of injuries are caused by what types of crashes? - Jonathan"
   ]
  },
  {
   "cell_type": "code",
   "execution_count": null,
   "metadata": {},
   "outputs": [],
   "source": [
    "# Create cost of damage and injury count (scatter with regression)"
   ]
  },
  {
   "cell_type": "code",
   "execution_count": null,
   "metadata": {},
   "outputs": [],
   "source": [
    "# Create cost of damage and fatal injury count (scatter with regression)"
   ]
  },
  {
   "cell_type": "code",
   "execution_count": null,
   "metadata": {},
   "outputs": [],
   "source": [
    "# Create speed vs. fatality count (scatter with regression)"
   ]
  },
  {
   "cell_type": "markdown",
   "metadata": {},
   "source": [
    "#### What types of wrecks occur based off location? - Andrew"
   ]
  },
  {
   "cell_type": "code",
   "execution_count": null,
   "metadata": {},
   "outputs": [],
   "source": [
    "# Create bar graph for trafficway_type"
   ]
  },
  {
   "cell_type": "code",
   "execution_count": null,
   "metadata": {},
   "outputs": [],
   "source": [
    "# Create heat map for total injuries by location"
   ]
  },
  {
   "cell_type": "code",
   "execution_count": null,
   "metadata": {},
   "outputs": [],
   "source": [
    "# Create heat map for fatal injuries by location"
   ]
  },
  {
   "cell_type": "code",
   "execution_count": null,
   "metadata": {},
   "outputs": [],
   "source": [
    "# Baker\n",
    "# Use google maps api to get location of high schools in Chicago\n",
    "# Create heat map of crashes by location with location of high schools plotted"
   ]
  },
  {
   "cell_type": "markdown",
   "metadata": {},
   "source": [
    "#### What weird connections can we make?"
   ]
  },
  {
   "cell_type": "code",
   "execution_count": null,
   "metadata": {},
   "outputs": [],
   "source": [
    "#Baker\n",
    "# Create direction facing bar graph (NSEW)"
   ]
  },
  {
   "cell_type": "code",
   "execution_count": null,
   "metadata": {},
   "outputs": [],
   "source": [
    "# Andrew\n",
    "# Pull in dataset for moon phases\n",
    "# Create crash count vs. moon phases"
   ]
  },
  {
   "cell_type": "code",
   "execution_count": null,
   "metadata": {},
   "outputs": [],
   "source": []
  }
 ],
 "metadata": {
  "kernelspec": {
   "display_name": "Python 3",
   "language": "python",
   "name": "python3"
  },
  "language_info": {
   "codemirror_mode": {
    "name": "ipython",
    "version": 3
   },
   "file_extension": ".py",
   "mimetype": "text/x-python",
   "name": "python",
   "nbconvert_exporter": "python",
   "pygments_lexer": "ipython3",
   "version": "3.8.3"
  }
 },
 "nbformat": 4,
 "nbformat_minor": 4
}
